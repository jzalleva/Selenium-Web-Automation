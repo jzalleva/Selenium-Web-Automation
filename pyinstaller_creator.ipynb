{
 "cells": [
  {
   "cell_type": "code",
   "execution_count": 3,
   "id": "sorted-payment",
   "metadata": {},
   "outputs": [
     }
   ],
   "source": [
    "#Program to create an exectuable file, which can be distributed to end users\n",
    "#Uses PyInstaller to create file\n",
    "\n",
    "#console option allows it to create a window to display outputs\n",
    "\n",
    "import PyInstaller.__main__\n",
    "\n",
    "PyInstaller.__main__.run(['Accrual_Uploader_Tool.py', '--onefile', '--console'])"
   ]
  }
 ],
 "metadata": {
  "kernelspec": {
   "display_name": "Python 3",
   "language": "python",
   "name": "python3"
  },
  "language_info": {
   "codemirror_mode": {
    "name": "ipython",
    "version": 3
   },
   "file_extension": ".py",
   "mimetype": "text/x-python",
   "name": "python",
   "nbconvert_exporter": "python",
   "pygments_lexer": "ipython3",
   "version": "3.8.5"
  }
 },
 "nbformat": 4,
 "nbformat_minor": 5
}
